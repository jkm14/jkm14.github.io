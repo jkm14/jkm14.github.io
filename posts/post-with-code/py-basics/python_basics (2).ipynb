{
  "nbformat": 4,
  "nbformat_minor": 0,
  "metadata": {
    "colab": {
      "provenance": []
    },
    "kernelspec": {
      "name": "python3",
      "display_name": "Python 3"
    },
    "language_info": {
      "name": "python"
    }
  },
  "cells": [
    {
      "cell_type": "markdown",
      "source": [
        "---\n",
        "title: Python Basics\n",
        "author: Jacob Miller\n",
        "date: 2025-02-14\n",
        "categories: [python, programming] # tags for a blog post (e.g., python)\n",
        "image: \"python_blog.png\"\n",
        "\n",
        "toc: true\n",
        "---"
      ],
      "metadata": {
        "id": "hqZrDTz_rTfe"
      }
    },
    {
      "cell_type": "markdown",
      "source": [
        "# Python Basics\n",
        "## Assignment ( = )"
      ],
      "metadata": {
        "id": "1529Hcclslg8"
      }
    },
    {
      "cell_type": "code",
      "execution_count": 34,
      "metadata": {
        "id": "OEg7tXJBevIr"
      },
      "outputs": [],
      "source": [
        "# Here we assign the integer value 132 to the variable x.\n",
        "x = 132\n",
        "\n",
        "# Now we can use the variable x in the next line.\n",
        "y = x + 93\n",
        "\n",
        "# This can be useful for simple equations"
      ]
    },
    {
      "cell_type": "markdown",
      "source": [
        "# Code and comment style\n",
        "The two main principles for coding and managing data are\n",
        "- Make things easier for your future self.\n",
        "- The # mark is Google Colab’s comment character.\n",
        "- This ommits executing any code after the symbol\n",
        "\n",
        "## indicates that the rest of the line is to be ignored.\n",
        "- It is good practice to write comments before the line that you want the comment to apply to"
      ],
      "metadata": {
        "id": "MUr6H4McswiY"
      }
    },
    {
      "cell_type": "code",
      "source": [
        "# Like this\n",
        "\n",
        "# You can describe your code in the next lines...\n",
        "\n",
        "# This should be used often to help keep code organized and understandable to you\n",
        "\n"
      ],
      "metadata": {
        "id": "BDefSK0AtSE1"
      },
      "execution_count": 35,
      "outputs": []
    },
    {
      "cell_type": "markdown",
      "source": [
        "# Variables are mames, not places\n",
        "\n"
      ],
      "metadata": {
        "id": "YtW6TONstFjn"
      }
    },
    {
      "cell_type": "code",
      "source": [
        "list_example = [18, 1.893, \"like this\", True, None]\n",
        "print(list_example)\n",
        "type(list_example)"
      ],
      "metadata": {
        "colab": {
          "base_uri": "https://localhost:8080/"
        },
        "id": "FMp51le6tC6q",
        "outputId": "e9220c0e-5d79-4ccf-a4f3-1abd07242d8a"
      },
      "execution_count": 36,
      "outputs": [
        {
          "output_type": "stream",
          "name": "stdout",
          "text": [
            "[18, 1.893, 'like this', True, None]\n"
          ]
        },
        {
          "output_type": "execute_result",
          "data": {
            "text/plain": [
              "list"
            ]
          },
          "metadata": {},
          "execution_count": 36
        }
      ]
    },
    {
      "cell_type": "markdown",
      "source": [
        "# Booleans, Conditions, and if Statements\n",
        "\n"
      ],
      "metadata": {
        "id": "d4T09kEvtboE"
      }
    },
    {
      "cell_type": "code",
      "source": [
        "# Booleans have true or false values\n",
        "# Remember that = symbol assigns a variable, but the == symbol means equal to\n",
        "\n",
        "20 == 30\n",
        "15 == '15'\n",
        "\n",
        "#20 =/ 30\n",
        "boolean_condition1 = 20 == 30\n",
        "print(boolean_condition1)\n",
        "\n",
        "# Int is not a str\n",
        "boolean_condition2 = 15 == '15'\n",
        "print(boolean_condition2)\n",
        "\n",
        "\n",
        "\n"
      ],
      "metadata": {
        "colab": {
          "base_uri": "https://localhost:8080/"
        },
        "id": "UbJs7Ga9t0gx",
        "outputId": "dad78f50-a767-40f3-98c9-971ea6f2f3ba"
      },
      "execution_count": 37,
      "outputs": [
        {
          "output_type": "stream",
          "name": "stdout",
          "text": [
            "False\n",
            "False\n"
          ]
        }
      ]
    },
    {
      "cell_type": "markdown",
      "source": [
        "# If statements"
      ],
      "metadata": {
        "id": "6bagcMAVuDpY"
      }
    },
    {
      "cell_type": "code",
      "source": [
        "# If statements can be very usefult to condense things into a quick readable way\n",
        "name = \"Brock\"\n",
        "score = 89\n",
        "\n",
        "if name == \"Brock\" and score > 90:\n",
        "    print(\"Brock, you achieved a high score.\")\n",
        "\n",
        "if name == \"Brock\" or score > 90:\n",
        "    print(\"You could be called Brock or have a high score\")\n",
        "\n",
        "if name != \"Brock\" and score > 90:\n",
        "    print(\"You are not called Brock and you have a high score\")"
      ],
      "metadata": {
        "colab": {
          "base_uri": "https://localhost:8080/"
        },
        "id": "FWnaOD_JuHSW",
        "outputId": "8deaac03-2e8c-4cbc-9dfc-7e22bb223cc9"
      },
      "execution_count": 38,
      "outputs": [
        {
          "output_type": "stream",
          "name": "stdout",
          "text": [
            "You could be called Brock or have a high score\n"
          ]
        }
      ]
    },
    {
      "cell_type": "markdown",
      "source": [
        "# Slicing Methods\n",
        "\n",
        "## Strings"
      ],
      "metadata": {
        "id": "pUmVaxIvuemn"
      }
    },
    {
      "cell_type": "code",
      "source": [
        "string = \"sprinter\"\n",
        "print( string[-3:] )\n",
        "\n",
        "string = \"train\"\n",
        "print(\"String has length of:\")\n",
        "print( len(string) )"
      ],
      "metadata": {
        "colab": {
          "base_uri": "https://localhost:8080/"
        },
        "id": "-Kr96gWVvozh",
        "outputId": "15dda724-79c2-4717-96d0-9aaa4c1c72d9"
      },
      "execution_count": 39,
      "outputs": [
        {
          "output_type": "stream",
          "name": "stdout",
          "text": [
            "ter\n",
            "String has length of:\n",
            "5\n"
          ]
        }
      ]
    },
    {
      "cell_type": "markdown",
      "source": [
        "# Functions, arguements, and parameters\n",
        "\n",
        "## Int, float, string are functions"
      ],
      "metadata": {
        "id": "I9TwjSn4v8Kf"
      }
    },
    {
      "cell_type": "code",
      "source": [
        "print(\"apple\", \"grape\", \"lime\")\n",
        "print(\"apple\", \"grape\", \"lime\", sep = \"!\")\n",
        "print(\"apple\", \"grape\", \"lime\", sep=\" \")"
      ],
      "metadata": {
        "colab": {
          "base_uri": "https://localhost:8080/"
        },
        "id": "T9X_OC3uv0h9",
        "outputId": "40facd07-fa88-4758-d608-4dbf4067eaed"
      },
      "execution_count": 40,
      "outputs": [
        {
          "output_type": "stream",
          "name": "stdout",
          "text": [
            "apple grape lime\n",
            "apple!grape!lime\n",
            "apple grape lime\n"
          ]
        }
      ]
    },
    {
      "cell_type": "markdown",
      "source": [
        "# Loops and repeats with while"
      ],
      "metadata": {
        "id": "bvqIvv9ww0-a"
      }
    },
    {
      "cell_type": "code",
      "source": [
        "# This function counts by 2's until you are at 10\n",
        "count = 2\n",
        "while count <= 10:\n",
        "    print(count)\n",
        "    count += 2\n",
        "\n",
        "numbers = [1, 3, 5]\n",
        "position = 0\n",
        "\n",
        "while position < len(numbers):\n",
        "    number = numbers[position]\n",
        "    if number > 4:  # Condition changed to checking if the number is greater than 4\n",
        "        print('Found a number greater than 4:', number)\n",
        "        break\n",
        "    position += 1\n",
        "else:  # break not called\n",
        "    print('No number greater than 4 found')"
      ],
      "metadata": {
        "colab": {
          "base_uri": "https://localhost:8080/"
        },
        "id": "I08EIw8tw3Bk",
        "outputId": "a7fc6838-7169-4cb5-c8f2-f58ea277b16f"
      },
      "execution_count": 41,
      "outputs": [
        {
          "output_type": "stream",
          "name": "stdout",
          "text": [
            "2\n",
            "4\n",
            "6\n",
            "8\n",
            "10\n",
            "Found a number greater than 4: 5\n"
          ]
        }
      ]
    },
    {
      "cell_type": "markdown",
      "source": [
        "# Modifying lists\n"
      ],
      "metadata": {
        "id": "JTFj-AIhxTnq"
      }
    },
    {
      "cell_type": "code",
      "source": [
        "# a ppend () adds an item to a list\n",
        "my_list = [1, 2, 3]\n",
        "my_list.append(4)\n",
        "\n",
        "# remove(): Deletes the first occurrence of value in the list.\n",
        "my_list = [1, 2, 3, 4, 2]\n",
        "my_list.remove(2)\n",
        "\n",
        "# del statement: Deletes an item by index or a slice of items.\n",
        "my_list = [1, 2, 3, 4]\n",
        "del my_list[1]\n",
        "del my_list[1:3]\n",
        "\n"
      ],
      "metadata": {
        "id": "_lmDQKerxaWZ"
      },
      "execution_count": 42,
      "outputs": []
    },
    {
      "cell_type": "markdown",
      "source": [
        "# Error Statements\n"
      ],
      "metadata": {
        "id": "tdyx5qzbxwSe"
      }
    },
    {
      "cell_type": "code",
      "source": [
        "# The example looks for an IndexError first, because that’s the exception type raised when we provide an illegal position to a sequence.\n",
        "short_list = [1, 2, 3, 4, 5]\n",
        "while True:\n",
        "    value = input('Position [q to quit]? ')\n",
        "    if value == 'q':\n",
        "        break\n",
        "    try:\n",
        "        position = int(value)\n",
        "        print(short_list[position])\n",
        "    except IndexError as err:\n",
        "        print('Bad index:', position, '-', err)\n",
        "    except Exception as other:\n",
        "        print('Something else broke:', other)"
      ],
      "metadata": {
        "colab": {
          "base_uri": "https://localhost:8080/"
        },
        "id": "S_DrDJ7ixawr",
        "outputId": "a49e13b6-497f-4ae7-d211-b83a3bbc6268"
      },
      "execution_count": 43,
      "outputs": [
        {
          "name": "stdout",
          "output_type": "stream",
          "text": [
            "Position [q to quit]? q\n"
          ]
        }
      ]
    },
    {
      "cell_type": "markdown",
      "source": [
        "# Importing Modules, Packages, and Libraries import statement\n",
        "\n",
        "We can use the as keyword when importing the module/package/library using its canonical names.\n",
        "import LIBRARY as SOMETHING_SHORT\n",
        "\n",
        "We can use the from keyword when specifying Python module/package/library from which we want to import something.\n",
        "from LIBRARY import FUNCTION, PACKAGE, MODULE\n",
        "\n",
        "To install a library LIBRARY on your Google Colab, run:\n",
        "!pip install LIBRARY\n"
      ],
      "metadata": {
        "id": "7YMkdxYwx9-g"
      }
    },
    {
      "cell_type": "code",
      "source": [
        "import pandas as pd"
      ],
      "metadata": {
        "id": "QJkTwvIxyA8E"
      },
      "execution_count": 44,
      "outputs": []
    },
    {
      "cell_type": "code",
      "source": [],
      "metadata": {
        "id": "seAeZikNyO8r"
      },
      "execution_count": 44,
      "outputs": []
    }
  ]
}